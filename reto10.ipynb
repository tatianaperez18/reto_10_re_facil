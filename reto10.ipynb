{
 "cells": [
  {
   "cell_type": "markdown",
   "metadata": {},
   "source": [
    "### ejercicio 1"
   ]
  },
  {
   "cell_type": "code",
   "execution_count": 3,
   "metadata": {},
   "outputs": [
    {
     "name": "stdout",
     "output_type": "stream",
     "text": [
      "promedio de una lista de reales #4.0, 2.5, 3.8, 5.7, -1.0\n",
      "el promedio de el arreglo de reales es: 3.0\n"
     ]
    }
   ],
   "source": [
    "print(\"promedio de una lista de reales #4.0, 2.5, 3.8, 5.7, -1.0\")\n",
    "lista:float = [4.0, 2.5, 3.8, 5.7, -1.0] #arreglo de reales con 5 componentes\n",
    "#funcion para calcular el promedio\n",
    "def calcular_promedio(lista) -> float:\n",
    "    cantidad = len(lista)\n",
    "    suma = sum(lista)\n",
    "    return suma / cantidad\n",
    "if __name__ == \"__main__\":\n",
    "#imprime el promedio\n",
    "    promedio = calcular_promedio(lista)\n",
    "print(\"el promedio de el arreglo de reales es: \" +str(promedio))\n"
   ]
  },
  {
   "cell_type": "markdown",
   "metadata": {},
   "source": [
    "### ejercicio 2"
   ]
  },
  {
   "cell_type": "code",
   "execution_count": 13,
   "metadata": {},
   "outputs": [
    {
     "name": "stdout",
     "output_type": "stream",
     "text": [
      "el producto punto de los dos arreglos es: 73\n"
     ]
    }
   ],
   "source": [
    "#dos arreglos de enteros reales con 4 componentes \n",
    "lista1:float = [2, 6, 8, 3]\n",
    "lista2:float = [4, 7, 1, 5]\n",
    "#funcion para calcular el producto punto de los dos arreglos\n",
    "def calcular_producto_punto(lista1:float, lista2:float) -> float:\n",
    "    producto_punto = 0\n",
    "    for i in range(0, len(lista1)):\n",
    "        producto_punto += lista1[i] * lista2[i]\n",
    "    return producto_punto\n",
    "if __name__ == \"__main__\":\n",
    "#imprime el producto punto \n",
    "    producto_punto:float = calcular_producto_punto(lista1, lista2)\n",
    "print(\"el producto punto de los dos arreglos es: \" + str(producto_punto))\n"
   ]
  },
  {
   "cell_type": "markdown",
   "metadata": {},
   "source": [
    "### ejercicio 3"
   ]
  },
  {
   "cell_type": "code",
   "execution_count": 14,
   "metadata": {},
   "outputs": [
    {
     "name": "stdout",
     "output_type": "stream",
     "text": [
      "[11, 16, 23, 20, 15, 50, 17, 0, 0, 0]\n"
     ]
    }
   ],
   "source": [
    "lista = [11, 16, 23, 20, 0, 15, 0, 50, 0, 17] #lista con arreglo denumeros enteros\n",
    "def mover_ceros_al_final(lista) -> int:\n",
    "    #cree dos listas vacias para ir agregando los numeros ceros o diferentes de cero\n",
    "    diferentes_de_cero = []\n",
    "    ceros = []\n",
    "    for n in lista:\n",
    "        if n != 0:\n",
    "            #use append para para agregar los numeros a la lista si cumple con la condicion dada\n",
    "            diferentes_de_cero.append(n) \n",
    "        else:\n",
    "            ceros.append(n)\n",
    "    return diferentes_de_cero + ceros\n",
    "if __name__ == \"__main__\":\n",
    "#imprime el resultado\n",
    "    resultado = mover_ceros_al_final(lista)\n",
    "print(resultado)"
   ]
  }
 ],
 "metadata": {
  "kernelspec": {
   "display_name": "Python 3",
   "language": "python",
   "name": "python3"
  },
  "language_info": {
   "codemirror_mode": {
    "name": "ipython",
    "version": 3
   },
   "file_extension": ".py",
   "mimetype": "text/x-python",
   "name": "python",
   "nbconvert_exporter": "python",
   "pygments_lexer": "ipython3",
   "version": "3.11.4"
  }
 },
 "nbformat": 4,
 "nbformat_minor": 2
}
